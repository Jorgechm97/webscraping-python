{
 "cells": [
  {
   "cell_type": "code",
   "execution_count": 1,
   "metadata": {},
   "outputs": [],
   "source": [
    "#importar librerias\n",
    "from selenium import webdriver\n",
    "from bs4 import BeautifulSoup as bs\n",
    "from urllib.parse import urljoin\n",
    "import pandas as pd\n",
    "from selenium.webdriver.chrome.service import Service\n",
    "from webdriver_manager.chrome import ChromeDriverManager\n",
    "#cargar navegador y guardar pagina web en una variable\n",
    "driver = webdriver.Chrome(service=Service(ChromeDriverManager().install()))\n",
    "url = \"http://books.toscrape.com/\"\n",
    "#listas vacias\n",
    "titulo_sucio = []\n",
    "precio_sucio = []\n",
    "stock_sucio = []\n",
    "titulos = []\n",
    "precios = []\n",
    "stocks = []\n",
    "\n",
    "while True:\n",
    "    #obtener código html a bs4\n",
    "    driver.get(url)\n",
    "    contenido = driver.page_source\n",
    "    soup = bs(contenido)\n",
    "    #crear for para extraer información y agregarla en las listas_sucio\n",
    "    for libro in soup.find_all(\"article\", attrs={\"class\":\"product_pod\"}):\n",
    "        titulo = libro.find(\"h3\")\n",
    "        titulo_sucio.append(titulo.text)\n",
    "\n",
    "        precio = libro.find(\"p\", attrs={\"class\": \"price_color\"})\n",
    "        precio_sucio.append(precio.text)\n",
    "\n",
    "        stock = libro.find(\"p\", attrs={\"class\": \"instock availability\"})\n",
    "        stock_sucio.append(stock.text)\n",
    "    #crear for para limpiar listas_sucio y agregar en listas\n",
    "    for libro in titulo_sucio:\n",
    "        titulos.append(libro.replace(\"\\n\",\"\").strip())\n",
    "\n",
    "    for libro in precio_sucio:\n",
    "        precios.append(libro.replace(\"\\n\",\"\").strip())\n",
    "\n",
    "    for libro in stock_sucio:\n",
    "        stocks.append(libro.replace(\"\\n\",\"\").strip())\n",
    "\n",
    "    #saltar a la siguiente pagina y recolectar datos\n",
    "    siguiente_pag = soup.select_one(\"li.next>a\")\n",
    "    if siguiente_pag:\n",
    "        siguiente_url = siguiente_pag.get(\"href\")\n",
    "        url = urljoin(url, siguiente_url)\n",
    "    else:\n",
    "        break\n",
    "\n",
    "#guardar datos en un DataFrame y exportar a csv\n",
    "df = pd.DataFrame({\"Titulo\": titulos, \"Precio\": precios, \"Stock\": stocks})\n",
    "df.to_csv(\"Data_extraida.csv\", index=False, encoding=\"utf-8\")"
   ]
  },
  {
   "cell_type": "code",
   "execution_count": null,
   "metadata": {},
   "outputs": [],
   "source": []
  }
 ],
 "metadata": {
  "kernelspec": {
   "display_name": "Python 3",
   "language": "python",
   "name": "python3"
  },
  "language_info": {
   "codemirror_mode": {
    "name": "ipython",
    "version": 3
   },
   "file_extension": ".py",
   "mimetype": "text/x-python",
   "name": "python",
   "nbconvert_exporter": "python",
   "pygments_lexer": "ipython3",
   "version": "3.12.0"
  }
 },
 "nbformat": 4,
 "nbformat_minor": 2
}
